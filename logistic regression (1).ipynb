{
 "cells": [
  {
   "cell_type": "markdown",
   "id": "abcbba9e",
   "metadata": {},
   "source": [
    "#  importing Libraries"
   ]
  },
  {
   "cell_type": "code",
   "execution_count": null,
   "id": "6eaa3a94",
   "metadata": {
    "ExecuteTime": {
     "end_time": "2023-12-15T00:43:13.808297Z",
     "start_time": "2023-12-15T00:42:34.907989Z"
    }
   },
   "outputs": [],
   "source": [
    "import pandas as pd\n",
    "import numpy as np\n",
    "import cv2\n",
    "import os\n",
    "import matplotlib.pyplot as plt\n",
    "from skimage.feature import hog\n",
    "from sklearn.model_selection import train_test_split\n",
    "from sklearn.linear_model import LogisticRegression\n",
    "from sklearn.metrics import accuracy_score, confusion_matrix, roc_curve, auc\n",
    "import seaborn as sns\n",
    "from sklearn.preprocessing import label_binarize\n",
    "from sklearn.multiclass import OneVsRestClassifier\n",
    "from sklearn.metrics import roc_auc_score"
   ]
  },
  {
   "cell_type": "markdown",
   "id": "6aa29ab7",
   "metadata": {},
   "source": [
    "# Function to load images from a folder"
   ]
  },
  {
   "cell_type": "code",
   "execution_count": null,
   "id": "c188103c",
   "metadata": {
    "ExecuteTime": {
     "end_time": "2023-12-15T00:43:13.842189Z",
     "start_time": "2023-12-15T00:43:13.817288Z"
    }
   },
   "outputs": [],
   "source": [
    "def load_images_from_folder(folder):\n",
    "    images = []\n",
    "    labels = []\n",
    "\n",
    "    for subfolder in os.listdir(folder):\n",
    "        subfolder_path = os.path.join(folder, subfolder)\n",
    "\n",
    "        if os.path.isdir(subfolder_path):\n",
    "            label = subfolder\n",
    "            for filename in os.listdir(subfolder_path):\n",
    "                img_path = os.path.join(subfolder_path, filename)\n",
    "                img = cv2.imread((img_path), cv2.IMREAD_GRAYSCALE)\n",
    "\n",
    "                if img is not None:\n",
    "                    img = cv2.resize(img, (224, 224))  # Resize image to 224x224 pixels\n",
    "                    images.append(img)\n",
    "                    labels.append(label)\n",
    "\n",
    "    return np.array(images), np.array(labels)\n"
   ]
  },
  {
   "cell_type": "markdown",
   "id": "930e8f33",
   "metadata": {},
   "source": [
    "# Load images and labels"
   ]
  },
  {
   "cell_type": "code",
   "execution_count": null,
   "id": "0d1c709f",
   "metadata": {
    "ExecuteTime": {
     "end_time": "2023-12-15T00:44:28.991110Z",
     "start_time": "2023-12-15T00:43:13.856400Z"
    }
   },
   "outputs": [],
   "source": [
    "path = \"F:/dataset/\"\n",
    "images, labels = load_images_from_folder(path)\n",
    "\n",
    "flat_images = np.array(images)\n",
    "target = np.array(labels)\n"
   ]
  },
  {
   "cell_type": "markdown",
   "id": "f95b59fe",
   "metadata": {},
   "source": [
    "# Flatten images"
   ]
  },
  {
   "cell_type": "code",
   "execution_count": null,
   "id": "76013125",
   "metadata": {
    "ExecuteTime": {
     "end_time": "2023-12-15T00:44:29.787863Z",
     "start_time": "2023-12-15T00:44:28.999351Z"
    }
   },
   "outputs": [],
   "source": [
    "l = []\n",
    "for i in range(len(flat_images)):\n",
    "    l.append(flat_images[i].flatten())\n",
    "\n",
    "flat_images_flat = np.array(l)\n"
   ]
  },
  {
   "cell_type": "markdown",
   "id": "570dead7",
   "metadata": {},
   "source": [
    "# Create a DataFrame"
   ]
  },
  {
   "cell_type": "code",
   "execution_count": null,
   "id": "663acb9f",
   "metadata": {
    "ExecuteTime": {
     "end_time": "2023-12-15T00:44:29.975843Z",
     "start_time": "2023-12-15T00:44:29.792873Z"
    }
   },
   "outputs": [],
   "source": [
    "df = pd.DataFrame(flat_images_flat)\n",
    "target = np.array(labels)\n",
    "df['Target'] = target"
   ]
  },
  {
   "cell_type": "markdown",
   "id": "31d68d81",
   "metadata": {},
   "source": [
    "# Split the dataset into the Training set and Test set"
   ]
  },
  {
   "cell_type": "code",
   "execution_count": null,
   "id": "5d72aba8",
   "metadata": {
    "ExecuteTime": {
     "end_time": "2023-12-15T00:44:34.319799Z",
     "start_time": "2023-12-15T00:44:29.984175Z"
    }
   },
   "outputs": [],
   "source": [
    "X = df.iloc[:, :-1]\n",
    "y = df.iloc[:, -1]\n",
    "X_train, X_test, y_train, y_test = train_test_split(X, y, test_size=0.2, random_state=10)\n"
   ]
  },
  {
   "cell_type": "markdown",
   "id": "0121c9c0",
   "metadata": {},
   "source": [
    "# FITTING"
   ]
  },
  {
   "cell_type": "code",
   "execution_count": null,
   "id": "20c92d66",
   "metadata": {
    "ExecuteTime": {
     "end_time": "2023-12-15T00:48:09.889447Z",
     "start_time": "2023-12-15T00:44:34.333807Z"
    }
   },
   "outputs": [],
   "source": [
    "log = LogisticRegression()\n",
    "log.fit(X_train, y_train)\n",
    "y_pred = log.predict(X_test)\n"
   ]
  },
  {
   "cell_type": "markdown",
   "id": "3e829c80",
   "metadata": {},
   "source": [
    "# Calculate accuracy"
   ]
  },
  {
   "cell_type": "code",
   "execution_count": null,
   "id": "75f6aa12",
   "metadata": {
    "ExecuteTime": {
     "end_time": "2023-12-15T00:48:10.083447Z",
     "start_time": "2023-12-15T00:48:09.999524Z"
    }
   },
   "outputs": [],
   "source": [
    "accuracy_no_hog = accuracy_score(y_test, y_pred)\n",
    "print(f\"Accuracy without HOG: {accuracy_no_hog}\")\n"
   ]
  },
  {
   "cell_type": "markdown",
   "id": "68df1086",
   "metadata": {},
   "source": [
    "#  Function to preprocess images for HOG"
   ]
  },
  {
   "cell_type": "code",
   "execution_count": null,
   "id": "3bb9c4fd",
   "metadata": {
    "ExecuteTime": {
     "end_time": "2023-12-15T00:48:10.132376Z",
     "start_time": "2023-12-15T00:48:10.092446Z"
    }
   },
   "outputs": [],
   "source": [
    "def preprocess_images_for_hog(images, size=(32, 32)):\n",
    "    processed_images = []\n",
    "    for img in images:\n",
    "        resized_img = cv2.resize(img, size, interpolation=cv2.INTER_AREA)\n",
    "        if resized_img.shape[-1] == 3:\n",
    "            grayscale_img = cv2.cvtColor(resized_img, cv2.COLOR_BGR2GRAY)\n",
    "        else:\n",
    "            grayscale_img = resized_img\n",
    "        processed_images.append(grayscale_img)\n",
    "    return np.array(processed_images)"
   ]
  },
  {
   "cell_type": "markdown",
   "id": "435678c1",
   "metadata": {},
   "source": [
    "#  Preprocess images for HOG"
   ]
  },
  {
   "cell_type": "code",
   "execution_count": null,
   "id": "4e949da9",
   "metadata": {
    "ExecuteTime": {
     "end_time": "2023-12-15T00:48:12.596720Z",
     "start_time": "2023-12-15T00:48:10.164889Z"
    }
   },
   "outputs": [],
   "source": [
    "train_images_processed = preprocess_images_for_hog(images)"
   ]
  },
  {
   "cell_type": "markdown",
   "id": "414e8dab",
   "metadata": {},
   "source": [
    " #  Compute HOG features for Training images"
   ]
  },
  {
   "cell_type": "code",
   "execution_count": null,
   "id": "f8a0902a",
   "metadata": {
    "ExecuteTime": {
     "end_time": "2023-12-15T00:48:15.927703Z",
     "start_time": "2023-12-15T00:48:12.603730Z"
    }
   },
   "outputs": [],
   "source": [
    "train_hog_features = []\n",
    "for img in train_images_processed:\n",
    "    hog_img = hog(img, visualize=False)\n",
    "    train_hog_features.append(hog_img)\n"
   ]
  },
  {
   "cell_type": "markdown",
   "id": "aec607a9",
   "metadata": {},
   "source": [
    "#  Split the dataset with HOG features"
   ]
  },
  {
   "cell_type": "code",
   "execution_count": null,
   "id": "3e453426",
   "metadata": {
    "ExecuteTime": {
     "end_time": "2023-12-15T00:48:16.112094Z",
     "start_time": "2023-12-15T00:48:15.933700Z"
    }
   },
   "outputs": [],
   "source": [
    "X_train_processed, X_test_processed, y_train_processed, y_test_processed = train_test_split(train_hog_features, labels, test_size=0.2, random_state=10)"
   ]
  },
  {
   "cell_type": "markdown",
   "id": "9914aaf9",
   "metadata": {},
   "source": [
    "#  Train the model with HOG features"
   ]
  },
  {
   "cell_type": "code",
   "execution_count": null,
   "id": "4e914c8d",
   "metadata": {
    "ExecuteTime": {
     "end_time": "2023-12-15T00:48:17.736869Z",
     "start_time": "2023-12-15T00:48:16.119350Z"
    }
   },
   "outputs": [],
   "source": [
    "log_hog = LogisticRegression()\n",
    "log_hog.fit(X_train_processed, y_train_processed)\n",
    "y_pred_hog = log_hog.predict(X_test_processed)\n"
   ]
  },
  {
   "cell_type": "markdown",
   "id": "f5c5f71c",
   "metadata": {},
   "source": [
    "#  Calculate accuracy with HOG"
   ]
  },
  {
   "cell_type": "code",
   "execution_count": null,
   "id": "6b19e462",
   "metadata": {
    "ExecuteTime": {
     "end_time": "2023-12-15T00:48:17.773932Z",
     "start_time": "2023-12-15T00:48:17.744380Z"
    }
   },
   "outputs": [],
   "source": [
    "accuracy_hog = accuracy_score(y_test_processed, y_pred_hog)\n",
    "print(f\"Accuracy with HOG: {accuracy_hog}\")\n"
   ]
  },
  {
   "cell_type": "markdown",
   "id": "8db275b7",
   "metadata": {},
   "source": [
    "# Create confusion matrix for logistic regression with HOG features"
   ]
  },
  {
   "cell_type": "code",
   "execution_count": null,
   "id": "1ca2fc1d",
   "metadata": {
    "ExecuteTime": {
     "end_time": "2023-12-15T00:48:20.179272Z",
     "start_time": "2023-12-15T00:48:17.788940Z"
    }
   },
   "outputs": [],
   "source": [
    "conf_matrix_hog = confusion_matrix(y_test_processed, y_pred_hog)\n",
    "sns.heatmap(conf_matrix_hog, annot=True, fmt='d', cmap='Blues', xticklabels=np.unique(y_test_processed), yticklabels=np.unique(y_test_processed))\n",
    "plt.title('Confusion Matrix with HOG')\n",
    "plt.xlabel('Predicted Label')\n",
    "plt.ylabel('True Label')\n",
    "plt.show()\n"
   ]
  },
  {
   "cell_type": "markdown",
   "id": "07877d79",
   "metadata": {},
   "source": [
    "# create ROC CURVE\n"
   ]
  },
  {
   "cell_type": "code",
   "execution_count": null,
   "id": "4feadcd5",
   "metadata": {
    "ExecuteTime": {
     "end_time": "2023-12-15T00:48:20.234440Z",
     "start_time": "2023-12-15T00:48:20.194241Z"
    }
   },
   "outputs": [],
   "source": [
    "y_test_bin = label_binarize(y_test_processed, classes=np.unique(y_test_processed))"
   ]
  },
  {
   "cell_type": "markdown",
   "id": "bf62a565",
   "metadata": {},
   "source": [
    "# Use decision function instead of predict_proba for Logistic Regression"
   ]
  },
  {
   "cell_type": "code",
   "execution_count": null,
   "id": "75adb458",
   "metadata": {
    "ExecuteTime": {
     "end_time": "2023-12-15T00:48:20.261713Z",
     "start_time": "2023-12-15T00:48:20.242442Z"
    }
   },
   "outputs": [],
   "source": [
    "y_score_hog = log_hog.decision_function(X_test_processed)"
   ]
  },
  {
   "cell_type": "markdown",
   "id": "28f6a305",
   "metadata": {},
   "source": [
    " #   Compute ROC curve and ROC area for each class"
   ]
  },
  {
   "cell_type": "code",
   "execution_count": null,
   "id": "c4cfdffc",
   "metadata": {
    "ExecuteTime": {
     "end_time": "2023-12-15T00:48:20.304903Z",
     "start_time": "2023-12-15T00:48:20.268000Z"
    }
   },
   "outputs": [],
   "source": [
    "fpr = dict()\n",
    "tpr = dict()\n",
    "roc_auc = dict()\n",
    "for i in range(len(np.unique(y_test_processed))):\n",
    "    fpr[i], tpr[i], _ = roc_curve(y_test_bin[:, i], y_score_hog[:, i])\n",
    "    roc_auc[i] = auc(fpr[i], tpr[i])"
   ]
  },
  {
   "cell_type": "markdown",
   "id": "979abb52",
   "metadata": {},
   "source": [
    "# Plot ROC curve"
   ]
  },
  {
   "cell_type": "code",
   "execution_count": null,
   "id": "3395019f",
   "metadata": {
    "ExecuteTime": {
     "end_time": "2023-12-15T00:48:21.549605Z",
     "start_time": "2023-12-15T00:48:20.313101Z"
    }
   },
   "outputs": [],
   "source": [
    "plt.figure(figsize=(8, 6))\n",
    "for i in range(len(np.unique(y_test_processed))):\n",
    "    plt.plot(fpr[i], tpr[i], label=f'Class {i} (AUC = {roc_auc[i]:.2f})')\n",
    "\n",
    "plt.plot([0, 1], [0, 1], 'k--')\n",
    "plt.xlabel('False Positive Rate')\n",
    "plt.ylabel('True Positive Rate')\n",
    "plt.title('ROC Curve for Logistic Regression with HOG')\n",
    "plt.legend(loc=\"lower right\")\n",
    "plt.show()"
   ]
  },
  {
   "cell_type": "markdown",
   "id": "e783ed6d",
   "metadata": {},
   "source": [
    "#  loss curve\n"
   ]
  },
  {
   "cell_type": "code",
   "execution_count": null,
   "id": "6bf35551",
   "metadata": {
    "ExecuteTime": {
     "end_time": "2023-12-15T00:50:53.355893Z",
     "start_time": "2023-12-15T00:48:21.557585Z"
    },
    "scrolled": false
   },
   "outputs": [],
   "source": [
    "log_hog = LogisticRegression(max_iter=100)\n",
    "\n",
    "accuracies = []\n",
    "\n",
    "# Training loop with accuracy collection\n",
    "for iteration in range(log_hog.max_iter):\n",
    "    log_hog.fit(X_train_processed, y_train_processed)\n",
    "    accuracy = log_hog.score(X_train_processed, y_train_processed)\n",
    "    accuracies.append(accuracy)\n",
    "    print(f\"Iteration {iteration + 1}/{log_hog.max_iter} - Accuracy: {accuracy}\")\n",
    "\n",
    "# Plot the accuracy curve\n",
    "plt.figure(figsize=(8, 6))\n",
    "plt.plot(accuracies, label='Training Accuracy')\n",
    "plt.xlabel('Iteration')\n",
    "plt.ylabel('Accuracy')\n",
    "plt.title('Training Accuracy Curve')\n",
    "plt.legend()\n",
    "plt.show()"
   ]
  },
  {
   "cell_type": "markdown",
   "id": "995d0b94",
   "metadata": {},
   "source": [
    " "
   ]
  },
  {
   "cell_type": "markdown",
   "id": "0ea95150",
   "metadata": {},
   "source": []
  }
 ],
 "metadata": {
  "kernelspec": {
   "display_name": "Python 3 (ipykernel)",
   "language": "python",
   "name": "python3"
  },
  "language_info": {
   "codemirror_mode": {
    "name": "ipython",
    "version": 3
   },
   "file_extension": ".py",
   "mimetype": "text/x-python",
   "name": "python",
   "nbconvert_exporter": "python",
   "pygments_lexer": "ipython3",
   "version": "3.11.5"
  }
 },
 "nbformat": 4,
 "nbformat_minor": 5
}
